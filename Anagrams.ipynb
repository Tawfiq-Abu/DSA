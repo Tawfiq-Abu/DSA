{
 "cells": [
  {
   "cell_type": "code",
   "execution_count": 3,
   "id": "1014a974",
   "metadata": {},
   "outputs": [],
   "source": [
    "def anagram(s1,s2):\n",
    "    '''\n",
    "    create a list and loop through the strings and append them\n",
    "    sort them and make  the check\n",
    "    \n",
    "    '''\n",
    "    list1 = s1.replace(\" \",\"\")#O(n)\n",
    "    list2 = s2.replace(\" \",\"\")#O(n)\n",
    "    print(list1)\n",
    "    return sorted(list1) == sorted(list2)"
   ]
  },
  {
   "cell_type": "code",
   "execution_count": 4,
   "id": "4e631492",
   "metadata": {},
   "outputs": [
    {
     "name": "stdout",
     "output_type": "stream",
     "text": [
      "clinteastwood\n"
     ]
    },
    {
     "data": {
      "text/plain": [
       "True"
      ]
     },
     "execution_count": 4,
     "metadata": {},
     "output_type": "execute_result"
    }
   ],
   "source": [
    "anagram('clint eastwood','old west action')"
   ]
  },
  {
   "cell_type": "code",
   "execution_count": 9,
   "id": "88ae1b19",
   "metadata": {},
   "outputs": [],
   "source": [
    "def anagram2(s1,s2):\n",
    "    '''\n",
    "    first solution is fine but in interviews you want to solve it in a more mannual way\n",
    "    so we replace the strings and make them lower\n",
    "    then we create an empty dictionary\n",
    "    loop through each letter and make that letter a key with a corresponding value of 1\n",
    "    if by looping the key already exists then we want to increase the value by 1\n",
    "    then loop through the second solution and then subtract from the value the letters with same key\n",
    "    \n",
    "    '''\n",
    "    s1 = s1.replace(\" \",\"\").lower()#O(n)\n",
    "    s2 = s2.replace(\" \",\"\").lower()#O(n)\n",
    "    \n",
    "    count = {}\n",
    "    \n",
    "    if len(s1) != len(s2):\n",
    "        return False\n",
    "    \n",
    "    for letter in s1:\n",
    "        if letter in count:\n",
    "            #this is to check if the letter is already a key in our dictionary\n",
    "            #if it is a key then its value which is a number should have one added to it\n",
    "            count[letter] +=1\n",
    "        else:\n",
    "            count[letter] = 1\n",
    "    print(count)\n",
    "            \n",
    "    for letter in s2:\n",
    "        if letter in count:\n",
    "            count[letter] -=1\n",
    "        else:\n",
    "            count[letter] = 1\n",
    "            \n",
    "    print(count)\n",
    "    \n",
    "    for k in count:\n",
    "        if count[k] !=0:\n",
    "            return False\n",
    "    return True"
   ]
  },
  {
   "cell_type": "code",
   "execution_count": 10,
   "id": "2ec62899",
   "metadata": {},
   "outputs": [
    {
     "name": "stdout",
     "output_type": "stream",
     "text": [
      "{'c': 1, 'l': 1, 'i': 1, 'n': 1, 't': 2, 'e': 1, 'a': 1, 's': 1, 'w': 1, 'o': 2, 'd': 1}\n",
      "{'c': 0, 'l': 0, 'i': 0, 'n': 0, 't': 0, 'e': 0, 'a': 0, 's': 0, 'w': 0, 'o': 0, 'd': 0}\n"
     ]
    },
    {
     "data": {
      "text/plain": [
       "True"
      ]
     },
     "execution_count": 10,
     "metadata": {},
     "output_type": "execute_result"
    }
   ],
   "source": [
    "anagram2('clint eastwood','old west action')"
   ]
  },
  {
   "cell_type": "code",
   "execution_count": null,
   "id": "ffaf0f85",
   "metadata": {},
   "outputs": [],
   "source": []
  }
 ],
 "metadata": {
  "kernelspec": {
   "display_name": "Python 3",
   "language": "python",
   "name": "python3"
  },
  "language_info": {
   "codemirror_mode": {
    "name": "ipython",
    "version": 3
   },
   "file_extension": ".py",
   "mimetype": "text/x-python",
   "name": "python",
   "nbconvert_exporter": "python",
   "pygments_lexer": "ipython3",
   "version": "3.10.6"
  }
 },
 "nbformat": 4,
 "nbformat_minor": 5
}
